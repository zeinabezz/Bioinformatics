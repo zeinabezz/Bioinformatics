{
  "nbformat": 4,
  "nbformat_minor": 0,
  "metadata": {
    "colab": {
      "name": "sequences.py",
      "provenance": [],
      "collapsed_sections": [],
      "authorship_tag": "ABX9TyNT22VeZ6F/a1Uw6TLxnI5Y",
      "include_colab_link": true
    },
    "kernelspec": {
      "name": "python3",
      "display_name": "Python 3"
    },
    "language_info": {
      "name": "python"
    }
  },
  "cells": [
    {
      "cell_type": "markdown",
      "metadata": {
        "id": "view-in-github",
        "colab_type": "text"
      },
      "source": [
        "<a href=\"https://colab.research.google.com/github/zeinabezz/Bioinformatics/blob/main/sequences.ipynb\" target=\"_parent\"><img src=\"https://colab.research.google.com/assets/colab-badge.svg\" alt=\"Open In Colab\"/></a>"
      ]
    },
    {
      "cell_type": "markdown",
      "source": [
        "# Checks if DNA sequence is valid. Returns True is sequence is valid , or F a l s e otherwise ."
      ],
      "metadata": {
        "id": "5aD09ESKDoAW"
      }
    },
    {
      "cell_type": "code",
      "execution_count": 5,
      "metadata": {
        "id": "gFElJf3fCSwo"
      },
      "outputs": [],
      "source": [
        "def validate_dna ( dna_seq ):\n",
        "\n",
        "  seqm = dna_seq.upper()\n",
        "  valid = seqm.count(\"A\") + seqm.count(\"C\") + seqm.count(\"G\") + seqm. count(\"T\")\n",
        "  if valid == len (seqm): return True\n",
        "  else : return False"
      ]
    },
    {
      "cell_type": "code",
      "source": [
        "validate_dna (\" atagagagatctcg\")"
      ],
      "metadata": {
        "colab": {
          "base_uri": "https://localhost:8080/"
        },
        "id": "sjemhAKJDaLO",
        "outputId": "0cb4e307-b4ba-4b74-cc27-24412fd0bfd3"
      },
      "execution_count": 6,
      "outputs": [
        {
          "output_type": "execute_result",
          "data": {
            "text/plain": [
              "False"
            ]
          },
          "metadata": {},
          "execution_count": 6
        }
      ]
    },
    {
      "cell_type": "code",
      "source": [
        "validate_dna (\" ATAGAXTAGAT \")"
      ],
      "metadata": {
        "colab": {
          "base_uri": "https://localhost:8080/"
        },
        "id": "STaDXAcZDl63",
        "outputId": "939e0860-2385-48de-cc9d-6782e589357e"
      },
      "execution_count": 7,
      "outputs": [
        {
          "output_type": "execute_result",
          "data": {
            "text/plain": [
              "False"
            ]
          },
          "metadata": {},
          "execution_count": 7
        }
      ]
    },
    {
      "cell_type": "markdown",
      "source": [
        "# Calculates the frequency of each symbol in the sequence Returns a dictionary."
      ],
      "metadata": {
        "id": "OOSA2x9-E5b_"
      }
    },
    {
      "cell_type": "code",
      "source": [
        "def frequency (seq):\n",
        "   dic = {}\n",
        "   for s in seq.upper():\n",
        "     if s in dic: dic[s] += 1\n",
        "     else : dic[s] = 1\n",
        "   return dic"
      ],
      "metadata": {
        "id": "u1SmL8d5DyjJ"
      },
      "execution_count": 8,
      "outputs": []
    },
    {
      "cell_type": "code",
      "source": [
        "frequency (\"atagataactcgcatag\")"
      ],
      "metadata": {
        "colab": {
          "base_uri": "https://localhost:8080/"
        },
        "id": "-VJKlUi2FKOa",
        "outputId": "dc89ee33-6b00-4f6a-e7ae-3fde68df3398"
      },
      "execution_count": 10,
      "outputs": [
        {
          "output_type": "execute_result",
          "data": {
            "text/plain": [
              "{'A': 7, 'C': 3, 'G': 3, 'T': 4}"
            ]
          },
          "metadata": {},
          "execution_count": 10
        }
      ]
    },
    {
      "cell_type": "code",
      "source": [
        "frequency (\"MVVMKKSHHVLHSQSLIK\")"
      ],
      "metadata": {
        "colab": {
          "base_uri": "https://localhost:8080/"
        },
        "id": "SDZJbGDjFOOJ",
        "outputId": "6e07ccc9-3741-4238-c67e-ec4639154ae1"
      },
      "execution_count": 12,
      "outputs": [
        {
          "output_type": "execute_result",
          "data": {
            "text/plain": [
              "{'H': 3, 'I': 1, 'K': 3, 'L': 2, 'M': 2, 'Q': 1, 'S': 3, 'V': 3}"
            ]
          },
          "metadata": {},
          "execution_count": 12
        }
      ]
    },
    {
      "cell_type": "code",
      "source": [
        "seq_aa = input(\" Protein sequence:\")\n",
        "freq_aa = frequency( seq_aa)\n",
        "list_f = sorted(freq_aa.items(), key=lambda x: x[1] , reverse = True)\n",
        "\n",
        "for (k,v) in list_f:\n",
        "   print(\" Aminoacid :\", k, \":\", v)"
      ],
      "metadata": {
        "colab": {
          "base_uri": "https://localhost:8080/"
        },
        "id": "E5saL_ACFZ9l",
        "outputId": "b5b20ddc-55e9-428f-b015-0aed2b05557a"
      },
      "execution_count": 14,
      "outputs": [
        {
          "output_type": "stream",
          "name": "stdout",
          "text": [
            " Protein sequence:qwertqwert\n",
            " Aminoacid : Q : 2\n",
            " Aminoacid : W : 2\n",
            " Aminoacid : E : 2\n",
            " Aminoacid : R : 2\n",
            " Aminoacid : T : 2\n"
          ]
        }
      ]
    },
    {
      "cell_type": "markdown",
      "source": [
        "# Returns percentage of G and C nucleotides in a DNA sequence."
      ],
      "metadata": {
        "id": "iNyl3DSjHo72"
      }
    },
    {
      "cell_type": "code",
      "source": [
        "def gc_content ( dna_seq ):\n",
        "   gc_count = 0\n",
        "   for i in range(len(dna_seq)):\n",
        "      if dna_seq[i:i+2].upper() == \"GC\": gc_count += 1\n",
        "   return gc_count#/len( dna_seq )"
      ],
      "metadata": {
        "id": "zFl3ANS4G_u_"
      },
      "execution_count": 42,
      "outputs": []
    },
    {
      "cell_type": "code",
      "source": [
        "print(gc_content(\"gatcgcaaatgccccatgacgcatttcgc\"))"
      ],
      "metadata": {
        "colab": {
          "base_uri": "https://localhost:8080/"
        },
        "id": "K_LzUzv0IELF",
        "outputId": "c49c00bc-dd8f-42b5-d628-1713ac545aca"
      },
      "execution_count": 43,
      "outputs": [
        {
          "output_type": "stream",
          "name": "stdout",
          "text": [
            "4\n"
          ]
        }
      ]
    },
    {
      "cell_type": "markdown",
      "source": [
        "# Returns GC content of non−overlapping sub−sequences of size k. The result is a list. "
      ],
      "metadata": {
        "id": "8-JV3cE0Z-ju"
      }
    },
    {
      "cell_type": "code",
      "source": [
        "def gc_content_subseq (dna_seq, k=5):\n",
        "   res = []\n",
        "   for i in range (0, len(dna_seq)-k+1, k):\n",
        "      subseq = dna_seq [i:i+k]\n",
        "      gc = gc_content(subseq)\n",
        "      res. append(gc)\n",
        "   return res"
      ],
      "metadata": {
        "id": "8bOe1t83IQ8u"
      },
      "execution_count": 48,
      "outputs": []
    },
    {
      "cell_type": "code",
      "source": [
        "print(gc_content_subseq(\"gatcgcaaatgccccatgacgcatttcgcta\"))"
      ],
      "metadata": {
        "colab": {
          "base_uri": "https://localhost:8080/"
        },
        "id": "9IMb36I5aaz_",
        "outputId": "9e6df0c9-73c5-4d25-c1a1-030a625ffb33"
      },
      "execution_count": 50,
      "outputs": [
        {
          "output_type": "stream",
          "name": "stdout",
          "text": [
            "[0, 0, 1, 0, 1, 1]\n"
          ]
        }
      ]
    },
    {
      "cell_type": "markdown",
      "source": [
        "# Function that computes the RNA corresponding to the transcription of the DNA sequence provided."
      ],
      "metadata": {
        "id": "VlN3QdLDdrS2"
      }
    },
    {
      "cell_type": "code",
      "source": [
        "def transcription(dna_seq):\n",
        "   assert validate_dna(dna_seq), \" Invalid DNA sequence\"\n",
        "   return dna_seq.upper().replace (\"T\",\"U\")"
      ],
      "metadata": {
        "id": "D5itnrHVa5BQ"
      },
      "execution_count": 51,
      "outputs": []
    },
    {
      "cell_type": "code",
      "source": [
        "transcription(\"AGGATCCCCTTTCTAAAAAGGTGTGTGTGTTTTGT\")"
      ],
      "metadata": {
        "colab": {
          "base_uri": "https://localhost:8080/",
          "height": 35
        },
        "id": "1PfOMcw9eAC3",
        "outputId": "b46f221c-7186-45cf-bb90-2deeff158474"
      },
      "execution_count": 53,
      "outputs": [
        {
          "output_type": "execute_result",
          "data": {
            "text/plain": [
              "'AGGAUCCCCUUUCUAAAAAGGUGUGUGUGUUUUGU'"
            ],
            "application/vnd.google.colaboratory.intrinsic+json": {
              "type": "string"
            }
          },
          "metadata": {},
          "execution_count": 53
        }
      ]
    },
    {
      "cell_type": "markdown",
      "source": [
        "\n",
        "# Computes the reverse complement of the DNA sequence. "
      ],
      "metadata": {
        "id": "ZwP_ts-w5igM"
      }
    },
    {
      "cell_type": "code",
      "source": [
        "def reverse_complement ( dna_seq ):\n",
        "   assert validate_dna ( dna_seq ), \" Invalid DNA sequence\"\n",
        "   comp = \"\"\n",
        "   for c in dna_seq.upper ():\n",
        "      if c == \"A\":\n",
        "         comp = \"T\" + comp\n",
        "      elif c == \"T\":\n",
        "         comp = \"A\" + comp\n",
        "      elif c == \"G\":\n",
        "         comp = \"C\" + comp\n",
        "      elif c== \"C\":\n",
        "         comp = \"G\" + comp\n",
        "   return comp"
      ],
      "metadata": {
        "id": "nVARr4TGeGQb"
      },
      "execution_count": 54,
      "outputs": []
    },
    {
      "cell_type": "markdown",
      "source": [
        "# Translates a codon into an aminoacid using an internal dictionary with the standard genetic code."
      ],
      "metadata": {
        "id": "p64wlN3q6iDf"
      }
    },
    {
      "cell_type": "code",
      "source": [
        "def translate_codon (cod):\n",
        "\n",
        "   tc = {\"GCT\":\"A\", \"GCC\":\"A\", \"GCA\":\"A\", \"GCG\":\"A\", \n",
        "         \"TGT\":\"C\", \"TGC\":\"C\",\n",
        "         \"GAT\":\"D\", \"GAC\":\"D\",\n",
        "         \"GAA\":\"E\", \"GAG\":\"E\",\n",
        "         \"TTT\":\"F\", \"TTC\":\"F\",\n",
        "         \"GGT\":\"G\", \"GGC\":\"G\", \"GGA\":\"G\", \"GGG\":\"G\",\n",
        "         \"CAT\":\"H\", \"CAC\":\"H\",\n",
        "         \"ATA\":\"I\", \"ATT\":\"I\", \"ATC\":\"I\",\n",
        "         \"AAA\":\"K\", \"AAG\":\"K\",\n",
        "         \"TTA\":\"L\", \"TTG\":\"L\", \"CTT\":\"L\", \"CTC\":\"L\", \"CTA\":\"L\", \"CTG\":\"L\",\n",
        "         \"ATG\":\"M\", \"AAT\":\"N\", \"AAC\":\"N\",\n",
        "         \"CCT\":\"P\", \"CCC\":\"P\", \"CCA\":\"P\", \"CCG\":\"P\",\n",
        "         \"CAA\":\"Q\", \"CAG\":\"Q\",\n",
        "         \"CGT\":\"R\", \"CGC\":\"R\", \"CGA\":\"R\", \"CGG\":\"R\", \"AGA\":\"R\", \"AGG\":\"R\",\n",
        "         \"TCT\":\"S\", \"TCC\":\"S\", \"TCA\":\"S\", \"TCG\":\"S\", \"AGT\":\"S\", \"AGC\":\"S\",\n",
        "         \"ACT\":\"T\", \"ACC\":\"T\", \"ACA\":\"T\", \"ACG\":\"T\",\n",
        "         \"GTT\":\"V\", \"GTC\":\"V\", \"GTA\":\"V\", \"GTG\":\"V\",\n",
        "         \"TGG\":\"W\",\n",
        "         \"TAT\":\"Y\", \"TAC\":\"Y\",\n",
        "         \"TAA\":\"_\", \"TAG\":\"_\", \"TGA\":\"_\"}\n",
        "   if cod in tc: return tc[cod]\n",
        "   else : return None"
      ],
      "metadata": {
        "id": "Hmix8J-o6H2f"
      },
      "execution_count": 55,
      "outputs": []
    },
    {
      "cell_type": "markdown",
      "source": [
        "# Translates a DNA sequence into an aminoacid sequence."
      ],
      "metadata": {
        "id": "YHp--p_38qVB"
      }
    },
    {
      "cell_type": "code",
      "source": [
        "def translate_seq (dna_seq , ini_pos = 0):\n",
        "\n",
        "   assert validate_dna ( dna_seq ), \" Invalid DNA sequence\"\n",
        "   seqm = dna_seq . upper ()\n",
        "   seq_aa = \"\"\n",
        "   for pos in range (ini_pos , len (seqm)-2, 3):\n",
        "      cod = seqm[pos:pos +3]\n",
        "      seq_aa += translate_codon(cod)\n",
        "   return seq_aa"
      ],
      "metadata": {
        "id": "b-HcPcKZ7S2x"
      },
      "execution_count": 56,
      "outputs": []
    },
    {
      "cell_type": "markdown",
      "source": [
        "# Provides the frequency of each codon encoding a given aminoacid , in a DNA sequence ."
      ],
      "metadata": {
        "id": "QTVp6eXZ9jc5"
      }
    },
    {
      "cell_type": "code",
      "source": [
        "def codon_usage (dna_seq , aa):\n",
        "   assert validate_dna ( dna_seq ), \" Invalid DNA sequence\"\n",
        "   seqm = dna_seq . upper ()\n",
        "   dic = {}\n",
        "   total = 0\n",
        "   for i in range (0, len (seqm)-2, 3):\n",
        "      cod = seqm[i:i+3]\n",
        "      if translate_codon(cod) == aa:\n",
        "         if cod in dic:\n",
        "           dic[cod] += 1\n",
        "         else : dic[cod] = 1\n",
        "         total += 1\n",
        "   if total >0:\n",
        "      for k in dic:\n",
        "          dic[k] /= total\n",
        "   return dic"
      ],
      "metadata": {
        "id": "yhgqGUnD9AcG"
      },
      "execution_count": 58,
      "outputs": []
    },
    {
      "cell_type": "markdown",
      "source": [
        "# Computes the six reading frames of a DNA sequence ( including the reverse complement."
      ],
      "metadata": {
        "id": "q05NF2x1AgJR"
      }
    },
    {
      "cell_type": "code",
      "source": [
        "def reading_frames ( dna_seq ):\n",
        "   assert validate_dna ( dna_seq ), \" Invalid DNA sequence\"\n",
        "   res = []\n",
        "   res. append( translate_seq(dna_seq ,0))\n",
        "   res. append( translate_seq(dna_seq ,1))\n",
        "   res. append( translate_seq(dna_seq ,2))\n",
        "   rc = reverse_complement ( dna_seq )\n",
        "   res. append( translate_seq(rc ,0))\n",
        "   res. append( translate_seq(rc ,1))\n",
        "   res. append( translate_seq(rc ,2))\n",
        "   return res"
      ],
      "metadata": {
        "id": "FvciJ5Q690Hq"
      },
      "execution_count": 59,
      "outputs": []
    },
    {
      "cell_type": "markdown",
      "source": [
        "# Computes all possible proteins in an aminoacid sequence. Returns list of possible proteins. "
      ],
      "metadata": {
        "id": "JkF_FEcGeLMt"
      }
    },
    {
      "cell_type": "code",
      "source": [
        "def all_proteins_rf (aa_seq):\n",
        "   aa_seq = aa_seq. upper ()\n",
        "   current_prot = []\n",
        "   proteins = []\n",
        "   for aa in aa_seq:\n",
        "      if aa == \"_\":\n",
        "         if current_prot :\n",
        "            for p in current_prot :\n",
        "               proteins.append(p)\n",
        "            current_prot = []\n",
        "      else:\n",
        "        if aa == \"M\":\n",
        "            current_prot.append(\"\")\n",
        "        for i in range ( len ( current_prot )):\n",
        "            current_prot [i] += aa\n",
        "   return proteins"
      ],
      "metadata": {
        "id": "LNBib7DgBBIH"
      },
      "execution_count": 7,
      "outputs": []
    },
    {
      "cell_type": "code",
      "source": [
        "print(all_proteins_rf(\"MAPTHYUIPMOERTIOMIOPTRYYIU_\"))"
      ],
      "metadata": {
        "colab": {
          "base_uri": "https://localhost:8080/"
        },
        "id": "IVPnsJgMhb5x",
        "outputId": "7fb05552-5922-47e8-e390-78753a4a3883"
      },
      "execution_count": 8,
      "outputs": [
        {
          "output_type": "stream",
          "name": "stdout",
          "text": [
            "['MAPTHYUIPMOERTIOMIOPTRYYIU', 'MOERTIOMIOPTRYYIU', 'MIOPTRYYIU']\n"
          ]
        }
      ]
    },
    {
      "cell_type": "markdown",
      "source": [
        "# Computes all possible proteins for all open reading frames."
      ],
      "metadata": {
        "id": "e1SbVw3-Bkaa"
      }
    },
    {
      "cell_type": "code",
      "source": [
        "def all_orfs ( dna_seq ):\n",
        "   assert validate_dna ( dna_seq ), \" Invalid DNA sequence\"\n",
        "   rfs = reading_frames ( dna_seq )\n",
        "   res = []\n",
        "   for rf in rfs:\n",
        "      prots = all_proteins_rf(rf)\n",
        "      for p in prots: res. append(p)\n",
        "   return res"
      ],
      "metadata": {
        "id": "zXlKeW3-hlCD"
      },
      "execution_count": 1,
      "outputs": []
    },
    {
      "cell_type": "markdown",
      "source": [
        "# Computes all possible proteins for all open reading frames. Returns ordered list of proteins with minimum size."
      ],
      "metadata": {
        "id": "Uo0cNUZoQOi3"
      }
    },
    {
      "cell_type": "code",
      "source": [
        "def all_orfs_ord (dna_seq , minsize = 0):\n",
        "   assert validate_dna ( dna_seq ), \" Invalid DNA sequence\"\n",
        "   rfs = reading_frames ( dna_seq )\n",
        "   res = []\n",
        "   for rf in rfs:\n",
        "      prots = all_proteins_rf(rf)\n",
        "      for p in prots:\n",
        "         if len (p) > minsize : insert_prot_ord(p, res)\n",
        "   return res\n",
        "\n",
        "def insert_prot_ord (prot , list_prots):\n",
        "   i = 0\n",
        "   while i < len ( list_prots) and len (prot) < len ( list_prots[i]):\n",
        "     i += 1\n",
        "   list_prots. insert(i, prot)"
      ],
      "metadata": {
        "id": "Lj604K-cC-T6"
      },
      "execution_count": 1,
      "outputs": []
    },
    {
      "cell_type": "code",
      "source": [
        ""
      ],
      "metadata": {
        "id": "lwIXK6YHRk8G"
      },
      "execution_count": 3,
      "outputs": []
    },
    {
      "cell_type": "code",
      "source": [
        ""
      ],
      "metadata": {
        "id": "JGqPXL5tRxcx"
      },
      "execution_count": null,
      "outputs": []
    }
  ]
}